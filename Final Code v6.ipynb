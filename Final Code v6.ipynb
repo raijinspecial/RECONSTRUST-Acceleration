{
 "cells": [
  {
   "cell_type": "code",
   "execution_count": null,
   "metadata": {},
   "outputs": [],
   "source": [
    "import pandas as pd\n",
    "import numpy as np\n",
    "import os "
   ]
  },
  {
   "cell_type": "code",
   "execution_count": null,
   "metadata": {},
   "outputs": [],
   "source": [
    "fn='fsbqdgly4.csv'"
   ]
  },
  {
   "cell_type": "code",
   "execution_count": null,
   "metadata": {},
   "outputs": [],
   "source": [
    "name=os.path.splitext(fn)[0]"
   ]
  },
  {
   "cell_type": "code",
   "execution_count": null,
   "metadata": {},
   "outputs": [],
   "source": [
    "os.getcwd()"
   ]
  },
  {
   "cell_type": "code",
   "execution_count": null,
   "metadata": {},
   "outputs": [],
   "source": [
    "pd.set_option('display.max_rows', 500)"
   ]
  },
  {
   "cell_type": "code",
   "execution_count": null,
   "metadata": {},
   "outputs": [],
   "source": [
    "name"
   ]
  },
  {
   "cell_type": "code",
   "execution_count": null,
   "metadata": {},
   "outputs": [],
   "source": [
    "df=pd.read_csv(fn,usecols=['section','Trace','Length','Area','Thickness'])"
   ]
  },
  {
   "cell_type": "code",
   "execution_count": null,
   "metadata": {},
   "outputs": [],
   "source": [
    "df"
   ]
  },
  {
   "cell_type": "code",
   "execution_count": null,
   "metadata": {},
   "outputs": [],
   "source": [
    "#df['Trace']=df['Trace'].str.replace('09mi','09ami')"
   ]
  },
  {
   "cell_type": "code",
   "execution_count": null,
   "metadata": {},
   "outputs": [],
   "source": [
    "#df['Trace']=df['Trace'].str.replace(' aspiny','')\n",
    "#df['Trace']=df['Trace'].str.replace('mito','amito')\n",
    "#df['Trace']=df['Trace'].str.replace(' strange','')\n",
    "#df['Trace']=df['Trace'].str.replace('d007mito','d007amito')\n",
    "#df['Trace']=df['Trace'].str.replace('d002mito','d002amito')\n",
    "#df['Trace']=df['Trace'].str.replace('d003mito','d003amito')\n",
    "#df['Trace']=df['Trace'].str.replace('d009mito','d009amito')\n",
    "#df['Trace']=df['Trace'].str.replace('d001mito','d011amito')\n",
    "#df['Trace']=df['Trace'].str.replace('d011','d011a')\n",
    "#df['Trace']=df['Trace'].str.replace(' strange','')"
   ]
  },
  {
   "cell_type": "code",
   "execution_count": null,
   "metadata": {},
   "outputs": [],
   "source": [
    "#make group of boolean columns: true or false based partial string match in 'Trace'\n",
    "#also extracts regex pattern from strings in 'Trace', allows grouping by parent dendrite\n",
    "#USE ONLY FOR FHLTD B\n",
    "\n",
    "df['cfa_flag']=df['Trace'].str.contains('cfa')\n",
    "df['mito_flag']=df['Trace'].str.contains('mito')\n",
    "df['glyco_flag']=df['Trace'].str.contains('glycosect')\n",
    "df['inc_flag']=df['Trace'].str.contains('INC')\n",
    "#df[['dendrite','cfa']]=df['Trace'].str.extract(r'^(d\\d{3})_?(cfa\\d{2})?', expand=True)\n",
    "df[['dendrite','cfa']]=df['Trace'].str.extract(r'^(d\\d{3}a{1}|d\\d{3}$)_?(cfa\\d{2})?', expand=True)\n",
    "#df[['dendrite','cfa']]=df['Trace'].str.extract(r'^(d\\d{3}b{1}|d\\d{3}$)_?(cfa\\d{2})?', expand=True)\n",
    "df['dendtr']=df['Trace'].str.extract(r'^(d\\d{3}a{1}|d\\d{3})$', expand=False)\n",
    "#df['dendtr']=df['Trace'].str.extract(r'^(d\\d{3}b{1}|d\\d{3})$', expand=False)\n",
    "#df['dendtr']=df['Trace'].str.extract(r'^(d\\d{3})$', expand=False)\n",
    "#df['inc']=df['Trace'].str.extract(r'^(d\\d{3})_INC', expand=False)\n",
    "#df['glyco']=df['Trace'].str.extract(r'^(d\\d{3})glycosect', expand=False)\n",
    "df['glyco']=df['Trace'].str.extract(r'^(d\\d{3}a{1})glycosect', expand=False)\n",
    "#df['glyco']=df['Trace'].str.extract(r'^(d\\d{3}b{1})glycosect', expand=False)\n",
    "df['dend_flag']=np.where(~df['dendtr'].isnull(), 1, np.nan)\n",
    "df['darea']=df['Area']*df['dend_flag']"
   ]
  },
  {
   "cell_type": "code",
   "execution_count": null,
   "metadata": {},
   "outputs": [],
   "source": [
    "#make group of boolean columns: true or false based partial string match in 'Trace'\n",
    "#also extracts regex pattern from strings in 'Trace', allows grouping by parent dendrite\n",
    "#USE ONLY FOR FHLTD A\n",
    "\n",
    "df['cfa_flag']=df['Trace'].str.contains('cfa')\n",
    "df['mito_flag']=df['Trace'].str.contains('mito')\n",
    "df['glyco_flag']=df['Trace'].str.contains('glycosect')\n",
    "df['inc_flag']=df['Trace'].str.contains('INC')\n",
    "#df[['dendrite','cfa']]=df['Trace'].str.extract(r'^(d\\d{3})_?(cfa\\d{2})?', expand=True)\n",
    "#df[['dendrite','cfa']]=df['Trace'].str.extract(r'^(d\\d{3}a{1}|d\\d{3}$)_?(cfa\\d{2})?', expand=True)\n",
    "df[['dendrite','cfa']]=df['Trace'].str.extract(r'^(d\\d{3}b{1}|d\\d{3}$)_?(cfa\\d{2})?', expand=True)\n",
    "#df['dendtr']=df['Trace'].str.extract(r'^(d\\d{3}a{1}|d\\d{3})$', expand=False)\n",
    "df['dendtr']=df['Trace'].str.extract(r'^(d\\d{3}b{1}|d\\d{3})$', expand=False)\n",
    "#df['dendtr']=df['Trace'].str.extract(r'^(d\\d{3})$', expand=False)\n",
    "#df['inc']=df['Trace'].str.extract(r'^(d\\d{3})_INC', expand=False)\n",
    "#df['glyco']=df['Trace'].str.extract(r'^(d\\d{3})glycosect', expand=False)\n",
    "#df['glyco']=df['Trace'].str.extract(r'^(d\\d{3}a{1})glycosect', expand=False)\n",
    "df['glyco']=df['Trace'].str.extract(r'^(d\\d{3}b{1})glycosect', expand=False)\n",
    "df['dend_flag']=np.where(~df['dendtr'].isnull(), 1, np.nan)\n",
    "df['darea']=df['Area']*df['dend_flag']"
   ]
  },
  {
   "cell_type": "code",
   "execution_count": null,
   "metadata": {},
   "outputs": [],
   "source": [
    "#make group of boolean columns: true or false based partial string match in 'Trace'\n",
    "#also extracts regex pattern from strings in 'Trace', allows grouping by parent dendrite\n",
    "#USE ONLY FOR VOLJOE\n",
    "\n",
    "df['cfa_flag']=df['Trace'].str.contains('incfa')\n",
    "df['mito_flag']=df['Trace'].str.contains('inmito')\n",
    "#df['glyco_flag']=df['Trace'].str.contains('glycosect')\n",
    "#df['inc_flag']=df['Trace'].str.contains('INC')\n",
    "df[['dendrite','cfa']]=df['Trace'].str.extract(r'^(d\\d{3}in)_?(cfa\\d{2})?', expand=True)\n",
    "#df[['dendrite','cfa']]=df['Trace'].str.extract(r'^(d\\d{3}a{1}|d\\d{3}$)_?(cfa\\d{2})?', expand=True)\n",
    "#df[['dendrite','cfa']]=df['Trace'].str.extract(r'^(d\\d{3}b{1}|d\\d{3}$)_?(cfa\\d{2})?', expand=True)\n",
    "#df['dendtr']=df['Trace'].str.extract(r'^(d\\d{3}a{1}|d\\d{3})$', expand=False)\n",
    "#df['dendtr']=df['Trace'].str.extract(r'^(d\\d{3}b{1}|d\\d{3})$', expand=False)\n",
    "df['dendtr']=df['Trace'].str.extract(r'^(d\\d{3}in)$', expand=False)\n",
    "#df['inc']=df['Trace'].str.extract(r'^(d\\d{3})_INC', expand=False)\n",
    "df['glyco']=df['Trace'].str.extract(r'^(d\\d{3}in)glycosect', expand=False)\n",
    "#df['glyco']=df['Trace'].str.extract(r'^(d\\d{3}a{1})glycosect', expand=False)\n",
    "#df['glyco']=df['Trace'].str.extract(r'^(d\\d{3}b{1})glycosect', expand=False)\n",
    "df['dend_flag']=np.where(~df['dendtr'].isnull(), 1, np.nan)\n",
    "df['darea']=df['Area']*df['dend_flag']"
   ]
  },
  {
   "cell_type": "code",
   "execution_count": null,
   "metadata": {
    "scrolled": true
   },
   "outputs": [],
   "source": [
    "#make group of boolean columns: true or false based partial string match in 'Trace'\n",
    "#also extracts regex pattern from strings in 'Trace', allows grouping by parent dendrite\n",
    "\n",
    "df['cfa_flag']=df['Trace'].str.contains('cfa')\n",
    "df['mito_flag']=df['Trace'].str.contains('mito')\n",
    "df['glyco_flag']=df['Trace'].str.contains('glycosect')\n",
    "df['inc_flag']=df['Trace'].str.contains('INC')\n",
    "df[['dendrite','cfa']]=df['Trace'].str.extract(r'^(d\\d{3})_?(cfa\\d{2})?', expand=True)\n",
    "#df[['dendrite','cfa']]=df['Trace'].str.extract(r'^(d\\d{3}a{1}|d\\d{3}$)_?(cfa\\d{2})?', expand=True)\n",
    "#df[['dendrite','cfa']]=df['Trace'].str.extract(r'^(d\\d{3}b{1}|d\\d{3}$)_?(cfa\\d{2})?', expand=True)\n",
    "#df['dendtr']=df['Trace'].str.extract(r'^(d\\d{3}a{1}|d\\d{3})$', expand=False)\n",
    "#df['dendtr']=df['Trace'].str.extract(r'^(d\\d{3}b{1}|d\\d{3})$', expand=False)\n",
    "df['dendtr']=df['Trace'].str.extract(r'^(d\\d{3})$', expand=False)\n",
    "#df['inc']=df['Trace'].str.extract(r'^(d\\d{3})_INC', expand=False)\n",
    "df['glyco']=df['Trace'].str.extract(r'^(d\\d{3})glycosect', expand=False)\n",
    "#df['glyco']=df['Trace'].str.extract(r'^(d\\d{3}a{1})glycosect', expand=False)\n",
    "#df['glyco']=df['Trace'].str.extract(r'^(d\\d{3}b{1})glycosect', expand=False)\n",
    "df['dend_flag']=np.where(~df['dendtr'].isnull(), 1, np.nan)\n",
    "df['darea']=df['Area']*df['dend_flag']\n",
    "\n",
    "#creates derivitive dataframe to get accurate varicoseness measure. When a protrusion or a mistake small trace with\n",
    "#the same name as given dendrite appears on the same section, the small trace would be used as the minimum area\n",
    "#if not compensated for max/min values can fail to pass a sanity check, giving ratios over 1000:1\n",
    "#dendtr was extracted from 'Trace' by the above regex pattern and a new flag column generated with numpy where() \n",
    "#dendtr is not null, if not null write 1, else, null. dendz makes new df where dend_flag is 1, finds max value of\n",
    "#section and trace and overwrites all other values on a section with max\n",
    "\n",
    "#dendz=df[df['dend_flag']==1]\n",
    "#dendz['darea']=dendz.groupby(['section','Trace'])['darea'].transform('max')\n",
    "#dendz"
   ]
  },
  {
   "cell_type": "code",
   "execution_count": null,
   "metadata": {},
   "outputs": [],
   "source": [
    "#creates derivitive dataframe to get accurate varicoseness measure. When a protrusion or a mistake small trace with\n",
    "#the same name as given dendrite appears on the same section, the small trace would be used as the minimum area\n",
    "#if not compensated for max/min values can fail to pass a sanity check, giving ratios over 1000:1\n",
    "#dendtr was extracted from 'Trace' by the above regex pattern and a new flag column generated with numpy where() \n",
    "#dendtr is not null, if not null write 1, else, null. dendz makes new df where dend_flag is 1, finds max value of\n",
    "#section and trace and overwrites all other values on a section with max\n",
    "\n",
    "dendz=df[df['dend_flag']==1]\n",
    "dendz['darea']=dendz.groupby(['section','Trace'])['darea'].transform('max')\n",
    "#dendz"
   ]
  },
  {
   "cell_type": "code",
   "execution_count": null,
   "metadata": {},
   "outputs": [],
   "source": [
    "#obtains summed mito xs-area per psd\n",
    "\n",
    "df['grp_has_cfa']=df.groupby(['section','dendrite'])['cfa_flag'].transform('any')\n",
    "df['grp_has_mito']=df.groupby(['section','dendrite'])['mito_flag'].transform('any')\n",
    "df['summable_area']=df['Area']*df['grp_has_cfa']*df['grp_has_mito']*df['mito_flag']\n",
    "df['summable_area2']=df.groupby(['section', 'dendrite'])['summable_area'].transform('sum')\n",
    "df['dup'] = df.groupby(['section','dendrite','Trace'])['Trace'].transform('size')\n",
    "df['nodup']=df['summable_area2']/df['dup']"
   ]
  },
  {
   "cell_type": "code",
   "execution_count": null,
   "metadata": {},
   "outputs": [],
   "source": [
    "#prevents double counting mito area if synapse splits, i.e., more than 1 unitue cfa name per section\n",
    "\n",
    "sum_mito_area_per_psd=df.groupby(['dendrite', 'cfa'])['nodup'].sum()\n",
    "sum_mito_area_per_psd"
   ]
  },
  {
   "cell_type": "code",
   "execution_count": null,
   "metadata": {},
   "outputs": [],
   "source": [
    "sum_mito_area_per_psd.to_csv(f'{name}_sum_mito_area_per_psd.csv')"
   ]
  },
  {
   "cell_type": "code",
   "execution_count": null,
   "metadata": {
    "scrolled": true
   },
   "outputs": [],
   "source": [
    "#sum_mito_area_per_psd_mean_per_dendrite=sum_mito_area_per_psd.groupby(level=0).mean()"
   ]
  },
  {
   "cell_type": "code",
   "execution_count": null,
   "metadata": {},
   "outputs": [],
   "source": [
    "#sum_mito_area_per_psd_mean_per_dendrite"
   ]
  },
  {
   "cell_type": "code",
   "execution_count": null,
   "metadata": {},
   "outputs": [],
   "source": [
    "#sum_mito_area_per_psd_mean_per_dendrite.to_csv(f'{name}_sum_mito_area_per_psd_mean_per_dendrite.csv')"
   ]
  },
  {
   "cell_type": "code",
   "execution_count": null,
   "metadata": {},
   "outputs": [],
   "source": [
    "#get mito areas from regions without psd\n",
    "df['nocfa']=~df['cfa_flag']\n",
    "df['grp_has_no_cfa']=df.groupby(['section','dendrite'])['nocfa'].transform('all')\n",
    "df['summable_area_no_psd']=df['Area']*df['grp_has_no_cfa']*df['grp_has_mito']*df['mito_flag']\n",
    "df['summable_area_no_psd2']=df.groupby(['section', 'dendrite'])['summable_area_no_psd'].transform('sum')\n",
    "mean_mito_area_no_psd_mean=df.groupby(['dendrite'])['summable_area_no_psd2'].mean()"
   ]
  },
  {
   "cell_type": "code",
   "execution_count": null,
   "metadata": {},
   "outputs": [],
   "source": [
    "#mean_mito_area_no_psd_mean"
   ]
  },
  {
   "cell_type": "code",
   "execution_count": null,
   "metadata": {},
   "outputs": [],
   "source": [
    "#mean_mito_area_no_psd_mean.to_csv(f'{name}_mean_mito_area_no_psd.csv')"
   ]
  },
  {
   "cell_type": "code",
   "execution_count": null,
   "metadata": {},
   "outputs": [],
   "source": [
    "#get mean xs mito area per psd\n",
    "mean_mito_area_per_psd_mean=df.groupby(['dendrite', 'cfa'])['nodup'].mean()\n",
    "#mean_mito_area_per_psd_mean"
   ]
  },
  {
   "cell_type": "code",
   "execution_count": null,
   "metadata": {},
   "outputs": [],
   "source": [
    "mean_mito_area_per_psd_mean2=sum_mito_area_per_psd.groupby(level=0).mean()"
   ]
  },
  {
   "cell_type": "code",
   "execution_count": null,
   "metadata": {},
   "outputs": [],
   "source": [
    "#mean_mito_area_per_psd_mean2"
   ]
  },
  {
   "cell_type": "code",
   "execution_count": null,
   "metadata": {},
   "outputs": [],
   "source": [
    "#summitoarea_per_sec"
   ]
  },
  {
   "cell_type": "code",
   "execution_count": null,
   "metadata": {},
   "outputs": [],
   "source": [
    "df['summable_area3']=df['Area']*df['grp_has_mito']*df['mito_flag']\n",
    "df['summable_area4']=df.groupby(['section', 'dendrite'])['summable_area3'].transform('sum')"
   ]
  },
  {
   "cell_type": "code",
   "execution_count": null,
   "metadata": {},
   "outputs": [],
   "source": [
    "r=df.groupby(['dendtr','section'])['summable_area4'].sum()"
   ]
  },
  {
   "cell_type": "code",
   "execution_count": null,
   "metadata": {},
   "outputs": [],
   "source": [
    "r"
   ]
  },
  {
   "cell_type": "code",
   "execution_count": null,
   "metadata": {},
   "outputs": [],
   "source": [
    "r.to_csv(f'{name}_sum_mito_area_per_dend_sec.csv')"
   ]
  },
  {
   "cell_type": "code",
   "execution_count": null,
   "metadata": {},
   "outputs": [],
   "source": [
    "#psd areas for psd with no mito in any section\n",
    "df['nomito']=~df['mito_flag']\n",
    "df['nom']=df.groupby(['section','dendrite'])['nomito'].transform('all')\n",
    "df['mon']=df.groupby(['dendrite','cfa'])['nom'].transform('all')\n",
    "df['cfa_no_mito']=df['Length']*df['mon']\n",
    "df['sumcfa_nomito']=df['cfa_no_mito']*df['Thickness']\n",
    "q=df.groupby(['dendrite','cfa'])['sumcfa_nomito'].sum()"
   ]
  },
  {
   "cell_type": "code",
   "execution_count": null,
   "metadata": {},
   "outputs": [],
   "source": [
    "q"
   ]
  },
  {
   "cell_type": "code",
   "execution_count": null,
   "metadata": {},
   "outputs": [],
   "source": [
    "q.to_csv(f'{name}_psd_NO_mitos.csv')"
   ]
  },
  {
   "cell_type": "code",
   "execution_count": null,
   "metadata": {},
   "outputs": [],
   "source": [
    "#psd areas for psd with mito in any section\n",
    "df['nomnom']=df.groupby(['section','dendrite'])['mito_flag'].transform('any')\n",
    "df['monmon']=df.groupby(['dendrite','cfa'])['nomnom'].transform('any')\n",
    "df['cfa_w_mito']=df['Length']*df['monmon']\n",
    "df['sumcfamito']=df['cfa_w_mito']*df['Thickness']\n",
    "p=df.groupby(['dendrite','cfa'])['sumcfamito'].sum()"
   ]
  },
  {
   "cell_type": "code",
   "execution_count": null,
   "metadata": {},
   "outputs": [],
   "source": [
    "p"
   ]
  },
  {
   "cell_type": "code",
   "execution_count": null,
   "metadata": {},
   "outputs": [],
   "source": [
    "p.to_csv(f'{name}_psd_with_mitos.csv')"
   ]
  },
  {
   "cell_type": "code",
   "execution_count": null,
   "metadata": {},
   "outputs": [],
   "source": [
    "#obtain glycogen measurements, glycos/sec/dend, total glyco/dend, glycos/synapse\n",
    "\n",
    "glyco=df.groupby(['dendrite','section'])['glyco'].count()\n",
    "glycosum=glyco.groupby(level=0).sum()\n",
    "glycocfa=df[['dendrite','section','cfa']].drop_duplicates()\n",
    "glycocfa=glycocfa.dropna()\n",
    "out=pd.merge(glyco.reset_index(), glycocfa, on=['dendrite','section'])\n",
    "glycoscfa=out.groupby(['dendrite','cfa'])['glyco'].sum()"
   ]
  },
  {
   "cell_type": "code",
   "execution_count": null,
   "metadata": {},
   "outputs": [],
   "source": [
    "#glyco counts per section per dendrite\n",
    "glyco"
   ]
  },
  {
   "cell_type": "code",
   "execution_count": null,
   "metadata": {},
   "outputs": [],
   "source": [
    "glyco.to_csv(f'{name}_glyco_persec.csv')"
   ]
  },
  {
   "cell_type": "code",
   "execution_count": null,
   "metadata": {},
   "outputs": [],
   "source": [
    "#sum glyco per dendrite\n",
    "glycosum"
   ]
  },
  {
   "cell_type": "code",
   "execution_count": null,
   "metadata": {},
   "outputs": [],
   "source": [
    "glycosum.to_csv(f'{name}_sum_glycos.csv')"
   ]
  },
  {
   "cell_type": "code",
   "execution_count": null,
   "metadata": {},
   "outputs": [],
   "source": [
    "glycoscfa"
   ]
  },
  {
   "cell_type": "code",
   "execution_count": null,
   "metadata": {},
   "outputs": [],
   "source": [
    "glycoscfa.to_csv(f'{name}_glycos_per_synapse.csv')"
   ]
  },
  {
   "cell_type": "code",
   "execution_count": null,
   "metadata": {},
   "outputs": [],
   "source": [
    "#finds row indices where dendz has values,: says do this for all columns\n",
    "#creates a copy of df with dropped duplicated max values and makes new df without small same-name traces\n",
    "\n",
    "df.loc[dendz.index,:]=dendz\n",
    "df=df.drop_duplicates().copy()"
   ]
  },
  {
   "cell_type": "code",
   "execution_count": null,
   "metadata": {},
   "outputs": [],
   "source": [
    "avg_xs=df.groupby(['dendtr'])['darea'].mean()\n",
    "varicoseness=df.groupby(['dendtr'])['darea'].max()/df.groupby(['dendtr'])['darea'].min()"
   ]
  },
  {
   "cell_type": "code",
   "execution_count": null,
   "metadata": {},
   "outputs": [],
   "source": [
    "avg_xs"
   ]
  },
  {
   "cell_type": "code",
   "execution_count": null,
   "metadata": {},
   "outputs": [],
   "source": [
    "varicoseness"
   ]
  },
  {
   "cell_type": "code",
   "execution_count": null,
   "metadata": {},
   "outputs": [],
   "source": [
    "avg_xs.to_csv(f'{name}_avg_xs.csv')\n",
    "varicoseness.to_csv(f'{name}_varicoseness.csv')"
   ]
  },
  {
   "cell_type": "code",
   "execution_count": null,
   "metadata": {},
   "outputs": [],
   "source": [
    "## finds avg xs area of varicosities and intervar segments on dendrite\n",
    "df['ratio']=df['darea']/df.groupby(['dendtr'])['darea'].transform('mean')"
   ]
  },
  {
   "cell_type": "code",
   "execution_count": null,
   "metadata": {},
   "outputs": [],
   "source": [
    "dvariance=df.groupby(['dendtr'])['darea'].var()"
   ]
  },
  {
   "cell_type": "code",
   "execution_count": null,
   "metadata": {},
   "outputs": [],
   "source": [
    "#dvariance"
   ]
  },
  {
   "cell_type": "code",
   "execution_count": null,
   "metadata": {},
   "outputs": [],
   "source": [
    "rvariance=df.groupby(['dendtr'])['ratio'].var()"
   ]
  },
  {
   "cell_type": "code",
   "execution_count": null,
   "metadata": {},
   "outputs": [],
   "source": [
    "#rvariance"
   ]
  },
  {
   "cell_type": "code",
   "execution_count": null,
   "metadata": {},
   "outputs": [],
   "source": [
    "dvariance.to_csv(f'{name}_dvariance.csv')\n",
    "rvariance.to_csv(f'{name}_rvariance.csv')"
   ]
  },
  {
   "cell_type": "code",
   "execution_count": null,
   "metadata": {},
   "outputs": [],
   "source": [
    "varicoseness.name='varicoseness'\n",
    "dvariance.name='areavar'\n",
    "rvariance.name='ratiovar'"
   ]
  },
  {
   "cell_type": "code",
   "execution_count": null,
   "metadata": {},
   "outputs": [],
   "source": [
    "dendstat=pd.concat([varicoseness, dvariance, rvariance], axis=1)"
   ]
  },
  {
   "cell_type": "code",
   "execution_count": null,
   "metadata": {},
   "outputs": [],
   "source": [
    "#dendstat"
   ]
  },
  {
   "cell_type": "code",
   "execution_count": null,
   "metadata": {},
   "outputs": [],
   "source": [
    "dendstat.to_csv(f'{name}_dendvaris.csv')"
   ]
  },
  {
   "cell_type": "code",
   "execution_count": null,
   "metadata": {},
   "outputs": [],
   "source": [
    "#formal method to identify sections containing a varicosity by dividing section xs-area by dend. mean xs-area\n",
    "#the value 0.5 was chosen empirically as it appears to capture the transition zones between inter and var\n",
    "#0.5 yields almost identical synpos assignment as expert visual judgement\n",
    "#setting criteria >= 1 will obtain higher mean var area, but assign clearly var psds to inter\n",
    "\n",
    "df['var']=np.where(df['ratio']>0.5,df['darea'],np.nan)\n",
    "df['inter']=np.where(df['ratio']<0.5,df['darea'],np.nan)\n",
    "intvar=df.groupby('dendtr')['var','inter'].mean()"
   ]
  },
  {
   "cell_type": "code",
   "execution_count": null,
   "metadata": {},
   "outputs": [],
   "source": [
    "#intvar"
   ]
  },
  {
   "cell_type": "code",
   "execution_count": null,
   "metadata": {},
   "outputs": [],
   "source": [
    "#change output name if ratio values are not 0.5\n",
    "\n",
    "intvar.to_csv(f'{name}_var_inter_avg_xsas_per_dendrite.csv')"
   ]
  },
  {
   "cell_type": "code",
   "execution_count": null,
   "metadata": {},
   "outputs": [],
   "source": [
    "df['smooth_flag']=df['dendrite'].isin(set(varicoseness[varicoseness<3.5].index))\n",
    "df['inter_flag']=pd.notnull(df['inter'])\n",
    "df['var_flag']=pd.notnull(df['var'])"
   ]
  },
  {
   "cell_type": "code",
   "execution_count": null,
   "metadata": {},
   "outputs": [],
   "source": [
    "df['synpos']=np.where(df['smooth_flag'],'smooth',\n",
    "                      np.where(df['var_flag'],'var',\n",
    "                               np.where(df['inter_flag'] & (~df['var_flag']),'inter','')))"
   ]
  },
  {
   "cell_type": "code",
   "execution_count": null,
   "metadata": {},
   "outputs": [],
   "source": [
    "secpos=df.groupby(['dendrite', 'section'])['synpos'].max()"
   ]
  },
  {
   "cell_type": "code",
   "execution_count": null,
   "metadata": {},
   "outputs": [],
   "source": [
    "secpos"
   ]
  },
  {
   "cell_type": "code",
   "execution_count": null,
   "metadata": {},
   "outputs": [],
   "source": [
    "secpos.to_csv(f'{name}_section_type.csv')"
   ]
  },
  {
   "cell_type": "code",
   "execution_count": null,
   "metadata": {},
   "outputs": [],
   "source": [
    "#flags all psds smooth if parent dendrite max/min<3.5, else flags rows where var or inter column is not null\n",
    "df['smooth_flag']=df['dendrite'].isin(set(varicoseness[varicoseness<3.5].index))\n",
    "df['inter_flag']=pd.notnull(df['inter'])\n",
    "df['inter_flag']=df.groupby(['dendrite','section'])['inter_flag'].transform('any').fillna(False).astype('bool')\n",
    "df['var_flag']=pd.notnull(df['var'])\n",
    "df['var_flag']=df.groupby(['dendrite','section'])['var_flag'].transform('any').fillna(False).astype('bool')"
   ]
  },
  {
   "cell_type": "code",
   "execution_count": null,
   "metadata": {},
   "outputs": [],
   "source": [
    "#Identifies smooth psds but splits up fringe cases of var psds that span the transition from inter to var\n",
    "df['synpos']=np.where(df['smooth_flag'],'smooth',\n",
    "                      np.where(df['var_flag'],'var',\n",
    "                               np.where(df['inter_flag'] & (~df['var_flag']),'inter','')))"
   ]
  },
  {
   "cell_type": "code",
   "execution_count": null,
   "metadata": {},
   "outputs": [],
   "source": [
    "#figures out what synpos is most common per dendrite / cfa\n",
    "#ultimately reffers back to 'ratio' column, which divides xs area of dendrite D on section S by the mean xs-area\n",
    "#of dendrite D. For varicose dendrites, varicosities are defined as a dendrite traces with a ratio > 1 with\n",
    "#respect to mean xs-area of whole dendrite\n",
    "\n",
    "synposes = df.groupby(['dendrite','cfa'])['synpos'].agg(lambda x: x.value_counts().index[0])\n",
    "df = pd.merge(df.drop(['synpos'], axis=1), synposes.reset_index(), on=['dendrite','cfa'], how='left')"
   ]
  },
  {
   "cell_type": "code",
   "execution_count": null,
   "metadata": {},
   "outputs": [],
   "source": [
    "## gets ratio of sum mito length/dendrite trace per section\n",
    "df['mitolen']=np.where(df['mito_flag'],df['Length'],np.nan)\n",
    "df['dlen']=df['Length']*df['dend_flag']\n",
    "df['cfalen']=df['Length']*df['cfa_flag']\n",
    "#groups by dendrite and section for sum cfa length per section\n",
    "grp=df.groupby(['dendrite','section'])['cfalen'].sum()\n",
    "#groups by dendrite and section for sum mito length over dendtr length\n",
    "grp2=df.groupby(['dendrite','section'])['dlen','mitolen'].sum()\n",
    "grp2=grp2[grp2['mitolen']>0]\n",
    "grp3=grp2['mitolen']/grp2['dlen']\n",
    "# make code to get psd area, cfa length * thickness, then groupby dendrite and cfa\n",
    "df['cfalen']=df['Length']*df['cfa_flag']\n",
    "df['sumcfa']=df['cfalen']*df['Thickness']"
   ]
  },
  {
   "cell_type": "code",
   "execution_count": null,
   "metadata": {},
   "outputs": [],
   "source": [
    "cfasec=df.groupby(['dendrite', 'section']).agg({'cfalen': 'sum', 'cfa': 'count'})"
   ]
  },
  {
   "cell_type": "code",
   "execution_count": null,
   "metadata": {},
   "outputs": [],
   "source": [
    "cfasec"
   ]
  },
  {
   "cell_type": "code",
   "execution_count": null,
   "metadata": {},
   "outputs": [],
   "source": [
    "cfasec.to_csv(f'{name}_sum_cfalen_per_dend_sec_with_counts.csv')"
   ]
  },
  {
   "cell_type": "code",
   "execution_count": null,
   "metadata": {},
   "outputs": [],
   "source": [
    "#groups by dendrite and section for sum cfa length per section\n",
    "#grp"
   ]
  },
  {
   "cell_type": "code",
   "execution_count": null,
   "metadata": {},
   "outputs": [],
   "source": [
    "#groups by dendrite and section for sum mito length over dendtr length\n",
    "#grp3"
   ]
  },
  {
   "cell_type": "code",
   "execution_count": null,
   "metadata": {},
   "outputs": [],
   "source": [
    "#grp3.to_csv(f'{name}_dendmitoratio.csv')"
   ]
  },
  {
   "cell_type": "code",
   "execution_count": null,
   "metadata": {},
   "outputs": [],
   "source": [
    "psdareaz=df.groupby(['dendrite', 'cfa','synpos'])['sumcfa'].sum()"
   ]
  },
  {
   "cell_type": "code",
   "execution_count": null,
   "metadata": {},
   "outputs": [],
   "source": [
    "psdareaz"
   ]
  },
  {
   "cell_type": "code",
   "execution_count": null,
   "metadata": {},
   "outputs": [],
   "source": [
    "psdareaz.to_csv(f'{name}_cfa_type.csv')"
   ]
  },
  {
   "cell_type": "code",
   "execution_count": null,
   "metadata": {},
   "outputs": [],
   "source": [
    "#identifies incomplete synapses\n",
    "df['first']=df['section'].min()+1\n",
    "df['last']=df['section'].max()\n",
    "df['incstart']=df['section']==df['first']\n",
    "df['incend']=df['section']==df['last']\n",
    "df['start']=df.groupby(['dendrite','cfa'])['incstart'].transform('any')\n",
    "df['end']=df.groupby(['dendrite','cfa'])['incend'].transform('any')\n",
    "psdareaz2=df.groupby(['dendrite','cfa','synpos','start','end'])['sumcfa'].sum()\n",
    "psdareaz2"
   ]
  },
  {
   "cell_type": "code",
   "execution_count": null,
   "metadata": {},
   "outputs": [],
   "source": [
    "psdareaz2.to_csv(f'{name}_cfa_type_with_incompletes.csv')"
   ]
  },
  {
   "cell_type": "code",
   "execution_count": null,
   "metadata": {},
   "outputs": [],
   "source": [
    "psdsum=df.groupby(['dendrite'])['sumcfa'].sum()"
   ]
  },
  {
   "cell_type": "code",
   "execution_count": null,
   "metadata": {},
   "outputs": [],
   "source": [
    "psdsum"
   ]
  },
  {
   "cell_type": "code",
   "execution_count": null,
   "metadata": {},
   "outputs": [],
   "source": [
    "psdsum.to_csv(f'{name}_sum_psd_per_dend.csv')"
   ]
  },
  {
   "cell_type": "code",
   "execution_count": null,
   "metadata": {},
   "outputs": [],
   "source": [
    "df"
   ]
  },
  {
   "cell_type": "code",
   "execution_count": null,
   "metadata": {},
   "outputs": [],
   "source": []
  },
  {
   "cell_type": "code",
   "execution_count": null,
   "metadata": {},
   "outputs": [],
   "source": []
  }
 ],
 "metadata": {
  "kernelspec": {
   "display_name": "Python 3",
   "language": "python",
   "name": "python3"
  },
  "language_info": {
   "codemirror_mode": {
    "name": "ipython",
    "version": 3
   },
   "file_extension": ".py",
   "mimetype": "text/x-python",
   "name": "python",
   "nbconvert_exporter": "python",
   "pygments_lexer": "ipython3",
   "version": "3.6.5"
  }
 },
 "nbformat": 4,
 "nbformat_minor": 2
}
